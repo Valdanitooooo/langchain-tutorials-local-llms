{
 "cells": [
  {
   "cell_type": "code",
   "execution_count": 27,
   "metadata": {
    "collapsed": true,
    "ExecuteTime": {
     "end_time": "2023-07-21T08:00:32.169441015Z",
     "start_time": "2023-07-21T08:00:32.126161651Z"
    }
   },
   "outputs": [],
   "source": [
    "from langchain.chat_models import ChatOpenAI\n",
    "from langchain.document_loaders import TextLoader\n",
    "from langchain.schema import HumanMessage, SystemMessage\n",
    "import openai\n",
    "import os\n",
    "from dotenv import load_dotenv\n"
   ]
  },
  {
   "cell_type": "code",
   "execution_count": 34,
   "outputs": [],
   "source": [
    "load_dotenv()\n",
    "openai_api_base = os.getenv('OPENAI_API_BASE')\n",
    "llm = ChatOpenAI(\n",
    "    model_name=\"llama-2-7b-chat-hf\",\n",
    "    openai_api_key=\"Empty\",\n",
    "    request_timeout=120,\n",
    "    temperature=0.01,\n",
    "    max_retries=0,\n",
    "    # 这个不起作用\n",
    "    # open_api_base=openai_api_base,\n",
    "    # 这个也不起作用\n",
    "    model_kwargs={\n",
    "        'open_api_base': openai_api_base\n",
    "    }\n",
    ")\n",
    "# 这个有用\n",
    "openai.api_base = openai_api_base"
   ],
   "metadata": {
    "collapsed": false,
    "ExecuteTime": {
     "end_time": "2023-07-21T08:26:23.508726129Z",
     "start_time": "2023-07-21T08:26:23.464806334Z"
    }
   }
  },
  {
   "cell_type": "code",
   "execution_count": 20,
   "outputs": [
    {
     "data": {
      "text/plain": "AIMessage(content=\"Hello! How can I assist you today? Do you have any questions or topics you'd like to discuss?\", additional_kwargs={}, example=False)"
     },
     "execution_count": 20,
     "metadata": {},
     "output_type": "execute_result"
    }
   ],
   "source": [
    "messages = [\n",
    "    SystemMessage(\n",
    "        content=\"\"\n",
    "    ),\n",
    "    HumanMessage(\n",
    "        content=\"hello\"\n",
    "    ),\n",
    "]\n",
    "llm(messages)"
   ],
   "metadata": {
    "collapsed": false,
    "ExecuteTime": {
     "end_time": "2023-07-21T07:25:09.954553856Z",
     "start_time": "2023-07-21T07:24:17.018755670Z"
    }
   }
  },
  {
   "cell_type": "code",
   "execution_count": 29,
   "outputs": [],
   "source": [
    "from langchain.embeddings import HuggingFaceEmbeddings\n",
    "from langchain.indexes import VectorstoreIndexCreator"
   ],
   "metadata": {
    "collapsed": false,
    "ExecuteTime": {
     "end_time": "2023-07-21T08:00:41.865834883Z",
     "start_time": "2023-07-21T08:00:41.854976903Z"
    }
   }
  },
  {
   "cell_type": "code",
   "execution_count": 31,
   "outputs": [],
   "source": [
    "# https://huggingface.co/intfloat/multilingual-e5-large\n",
    "model_id = \"/home/valdanito/workspace/models/multilingual-e5-large\"\n",
    "embedding = HuggingFaceEmbeddings(model_name=model_id)\n",
    "loader = TextLoader(\"./state_of_the_union.txt\")\n",
    "index = VectorstoreIndexCreator(embedding=embedding).from_loaders([loader])"
   ],
   "metadata": {
    "collapsed": false,
    "ExecuteTime": {
     "end_time": "2023-07-21T08:09:35.666968390Z",
     "start_time": "2023-07-21T08:07:12.291474194Z"
    }
   }
  },
  {
   "cell_type": "code",
   "execution_count": 35,
   "outputs": [
    {
     "data": {
      "text/plain": "'The speaker is Joe Biden, the 46th President of the United States.'"
     },
     "execution_count": 35,
     "metadata": {},
     "output_type": "execute_result"
    }
   ],
   "source": [
    "questions = [\n",
    "    \"Who is the speaker\",\n",
    "    \"What did the president say about Ketanji Brown Jackson\",\n",
    "    \"What are the threats to America\",\n",
    "    \"Who are mentioned in the speech\",\n",
    "    \"Who is the vice president\",\n",
    "    \"How many projects were announced\",\n",
    "]\n",
    "\n",
    "# for query in questions:\n",
    "#     print(\"Query:\", query)\n",
    "#     print(\"Answer:\", index.query(query, llm=llm))\n",
    "index.query(\"Who is the speaker\", llm=llm)"
   ],
   "metadata": {
    "collapsed": false,
    "ExecuteTime": {
     "end_time": "2023-07-21T08:27:33.855771897Z",
     "start_time": "2023-07-21T08:26:26.836573375Z"
    }
   }
  }
 ],
 "metadata": {
  "kernelspec": {
   "display_name": "Python 3",
   "language": "python",
   "name": "python3"
  },
  "language_info": {
   "codemirror_mode": {
    "name": "ipython",
    "version": 2
   },
   "file_extension": ".py",
   "mimetype": "text/x-python",
   "name": "python",
   "nbconvert_exporter": "python",
   "pygments_lexer": "ipython2",
   "version": "2.7.6"
  }
 },
 "nbformat": 4,
 "nbformat_minor": 0
}
